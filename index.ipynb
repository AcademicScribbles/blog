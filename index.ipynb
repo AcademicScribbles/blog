{
  "cells": [
    {
      "cell_type": "raw",
      "metadata": {},
      "source": [
        "---\n",
        "title: \"\"\n",
        "resources: resume.pdf\n",
        "about:\n",
        "  template: jolla\n",
        "  image: evipapadaki.jpg\n",
        "  links:\n",
        "    - icon: instagram\n",
        "      text: instagram\n",
        "      href: https://www.instagram.com/academic_scribbles/\n",
        "    - icon: linkedin\n",
        "      text: linkedin\n",
        "      href: https://www.linkedin.com/in/evi-papadaki/\n",
        "---"
      ],
      "id": "ad2b124e"
    },
    {
      "cell_type": "markdown",
      "metadata": {},
      "source": [
        "```{css, echo = FALSE}\n",
        ".justify {\n",
        "  text-align: justify !important\n",
        "}\n",
        "```\n",
        "\n",
        "::: {.justify}\n",
        "Hello and welcome to my little nook on the internet! I am Evi (she/her) and I love mathematics and teaching.\n",
        "\n",
        "I am an early career researcher in Mathematics Education. I am interested in research into mathematics teaching and student support. My research focuses on exploring mathematical discourses, I am particularly interested in patterns of communication during discussions about ideas and practices that go *beyond the mathematics of the moment* (i.e., beyond the curriculum).\n",
        "\n",
        "Outside of work, I find joy in knitting, sewing, and painting – each with varying levels of success but always with a zest for creating something unique and developing new skills along the way.\n",
        "\n",
        "Have a wander through my website to learn more.\n",
        ":::"
      ],
      "id": "92e97cff"
    }
  ],
  "metadata": {
    "kernelspec": {
      "display_name": "Python 3",
      "language": "python",
      "name": "python3"
    }
  },
  "nbformat": 4,
  "nbformat_minor": 5
}